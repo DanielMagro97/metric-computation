{
 "cells": [
  {
   "cell_type": "code",
   "execution_count": null,
   "metadata": {},
   "outputs": [],
   "source": [
    "from __future__ import absolute_import, division, print_function\n",
    "import json\n",
    "import time\n",
    "\n",
    "import matplotlib.pyplot as plt\n",
    "import numpy as np\n",
    "import seaborn as sns\n",
    "from metric_utils import *\n",
    "import torchmetrics"
   ]
  },
  {
   "cell_type": "markdown",
   "metadata": {},
   "source": [
    "## Predictions Format\n",
    "\n",
    "The model accepts predictions as JSON files in the following format\n",
    "(The notation in caps with a dollar sign (`$IMG_NAME`) means that such key will be replaced by the actual value of the property)\n",
    "```json\n",
    "    {\n",
    "        \"$IMG_NAME\": {\n",
    "            \"labels\": [$CLASS_IDX: int, ..., $CLASS_IDX: int],\n",
    "            \"boxes\": [[$X1, $X2, $Y1, $Y2], ..., [$X1, $X2, $Y1, $Y2]],\n",
    "            \"scores\": [$CONFIDENCE_SCORE: float, ..., $CONFIDENCE_SCORE: float]\n",
    "        },\n",
    "\n",
    "        ...\n",
    "        \n",
    "        \"$IMG_NAME\": {\n",
    "            \"labels\": [$CLASS_IDX: int, ..., $CLASS_IDX: int],\n",
    "            \"boxes\": [[$X1, $X2, $Y1, $Y2], ..., [$X1, $X2, $Y1, $Y2]],\n",
    "            \"scores\": [$CONFIDENCE_SCORE: float, ..., $CONFIDENCE_SCORE: float]\n",
    "        }\n",
    "    }\n",
    "```\n",
    "\n",
    "## Ground Truth Format\n",
    "\n",
    "Compliant to [COCO format]()\n",
    "```json\n",
    "{\n",
    "    \"image\": {\n",
    "        \"id\": int, \n",
    "        \"width\": int, \n",
    "        \"height\": int, \n",
    "        \"file_name\": str\n",
    "    },\n",
    "    \"annotations\": {\n",
    "        \"id\": int, \n",
    "        \"image_id\": int, \n",
    "        \"category_id\": int, \n",
    "        \"segmentation\": RLE or [polygon], \n",
    "        \"area\": float, \n",
    "        \"bbox\": [x,y,width,height], \n",
    "        \"iscrowd\": 0 or 1,\n",
    "    },\n",
    "\n",
    "    \"categories\": [{\n",
    "        \"id\": int, \n",
    "        \"name\": str\n",
    "    }]\n",
    "}\n",
    "```"
   ]
  },
  {
   "cell_type": "markdown",
   "metadata": {},
   "source": [
    "## Visualization setup"
   ]
  },
  {
   "cell_type": "code",
   "execution_count": null,
   "metadata": {},
   "outputs": [],
   "source": [
    "sns.set_style('white')\n",
    "sns.set_context('poster')\n",
    "\n",
    "COLORS = [\n",
    "    '#1f77b4', '#aec7e8', '#ff7f0e', '#ffbb78', '#2ca02c',\n",
    "    '#98df8a', '#d62728', '#ff9896', '#9467bd', '#c5b0d5',\n",
    "    '#8c564b', '#c49c94', '#e377c2', '#f7b6d2', '#7f7f7f',\n",
    "    '#c7c7c7', '#bcbd22', '#dbdb8d', '#17becf', '#9edae5']"
   ]
  },
  {
   "cell_type": "markdown",
   "metadata": {},
   "source": [
    "## Loading gt and pred annotations"
   ]
  },
  {
   "cell_type": "code",
   "execution_count": null,
   "metadata": {},
   "outputs": [],
   "source": [
    "with open('test.json') as infile:\n",
    "    annotations = json.load(infile)\n",
    "\n",
    "with open('rg-boxes copy.json') as infile:\n",
    "    pred_boxes = json.load(infile)\n",
    "    \n",
    "id_to_filename = {}\n",
    "for img in annotations['images']:\n",
    "    id_to_filename[img['id']] = img['file_name'].split('.')[0]\n",
    "\n",
    "class_id_to_name = {}\n",
    "for cl in annotations['categories']:\n",
    "    class_id_to_name[cl['id']] = cl['name']\n",
    "\n",
    "gt_boxes = {}\n",
    "for ann in annotations['annotations']:\n",
    "    img_id = ann['image_id']\n",
    "    img_name = id_to_filename[img_id]\n",
    "    if img_name not in gt_boxes:\n",
    "        gt_boxes[img_name] = {'boxes': [], 'labels': []}\n",
    "    bbox = ann['bbox']\n",
    "    bbox[2] += bbox[0]\n",
    "    bbox[3] += bbox[1]\n",
    "    class_id = ann['category_id']\n",
    "    gt_boxes[img_name]['boxes'].append(bbox)\n",
    "    gt_boxes[img_name]['labels'].append(class_id)"
   ]
  },
  {
   "cell_type": "markdown",
   "metadata": {},
   "source": [
    "## Fix missing keys"
   ]
  },
  {
   "cell_type": "code",
   "execution_count": null,
   "metadata": {},
   "outputs": [],
   "source": [
    "for miss_k in (set(pred_boxes) - set(gt_boxes)):\n",
    "    del pred_boxes[miss_k]"
   ]
  },
  {
   "cell_type": "code",
   "execution_count": null,
   "metadata": {},
   "outputs": [],
   "source": [
    "set(pred_boxes) - set(gt_boxes)"
   ]
  },
  {
   "cell_type": "code",
   "execution_count": null,
   "metadata": {},
   "outputs": [],
   "source": [
    "import torch\n",
    "pred_list = []\n",
    "for img in sorted(pred_boxes):\n",
    "    for k, v in pred_boxes[img].items():\n",
    "        pred_boxes[img][k] = torch.tensor(v)\n",
    "    pred_list.append(pred_boxes[img])\n",
    "\n",
    "gt_list = []\n",
    "for img in sorted(gt_boxes):\n",
    "    for k, v in gt_boxes[img].items():\n",
    "        gt_boxes[img][k] = torch.tensor(v)\n",
    "    gt_list.append(gt_boxes[img])"
   ]
  },
  {
   "cell_type": "code",
   "execution_count": null,
   "metadata": {},
   "outputs": [],
   "source": [
    "map50 = torchmetrics.MAP(class_metrics=True)\n",
    "map50.update(pred_list, gt_list)\n",
    "map50.compute()"
   ]
  },
  {
   "cell_type": "code",
   "execution_count": null,
   "metadata": {},
   "outputs": [],
   "source": [
    "# Split all groundtruths and detections into subsets by the object detected\n",
    "gt_boxes_source, pred_boxes_source = split_boxes_by_class(gt_boxes, pred_boxes, 'source')\n",
    "gt_boxes_sidelobe, pred_boxes_sidelobe = split_boxes_by_class(gt_boxes, pred_boxes, 'sidelobe')\n",
    "gt_boxes_galaxy, pred_boxes_galaxy = split_boxes_by_class(gt_boxes, pred_boxes, 'galaxy')"
   ]
  },
  {
   "cell_type": "markdown",
   "metadata": {},
   "source": [
    "## mAP@0.5"
   ]
  },
  {
   "cell_type": "code",
   "execution_count": null,
   "metadata": {},
   "outputs": [],
   "source": [
    "# Run per class mAP calculation for each class\n",
    "iou_thr = 0.5\n",
    "# calculate source mAP\n",
    "data = get_avg_precision_at_iou(gt_boxes_source, pred_boxes_source, iou_thr=iou_thr)\n",
    "print('Source avg precision: {:.4f}'.format(data['avg_prec']))\n",
    "# calculate sidelobe mAP\n",
    "data = get_avg_precision_at_iou(gt_boxes_sidelobe, pred_boxes_sidelobe, iou_thr=iou_thr)\n",
    "print('Sidelobe avg precision: {:.4f}'.format(data['avg_prec']))\n",
    "# calculate galaxy mAP\n",
    "data = get_avg_precision_at_iou(gt_boxes_galaxy, pred_boxes_galaxy, iou_thr=iou_thr)\n",
    "print('Galaxy avg precision: {:.4f}'.format(data['avg_prec']))\n",
    "\n",
    "# Runs it for one IoU threshold for all predictions\n",
    "start_time = time.time()\n",
    "data = get_avg_precision_at_iou(gt_boxes, pred_boxes, iou_thr=iou_thr)\n",
    "end_time = time.time()\n",
    "print('Single IoU calculation took {:.4f} secs'.format(end_time - start_time))\n",
    "print('avg precision: {:.4f}'.format(data['avg_prec']))"
   ]
  },
  {
   "cell_type": "markdown",
   "metadata": {},
   "source": [
    "## mAP@0.5:0.95 + PR Curve"
   ]
  },
  {
   "cell_type": "code",
   "execution_count": null,
   "metadata": {},
   "outputs": [],
   "source": [
    "start_time = time.time()\n",
    "ax = None\n",
    "avg_precs = []\n",
    "iou_thrs = []\n",
    "for idx, iou_thr in enumerate(np.linspace(0.5, 0.95, 10)):\n",
    "    data = get_avg_precision_at_iou(gt_boxes, pred_boxes, iou_thr=iou_thr)\n",
    "    avg_precs.append(data['avg_prec'])\n",
    "    iou_thrs.append(iou_thr)\n",
    "\n",
    "    precisions = data['precisions']\n",
    "    recalls = data['recalls']\n",
    "    ax = plot_pr_curve(\n",
    "        precisions, recalls, label='{:.2f}'.format(iou_thr), color=COLORS[idx*2], ax=ax)\n",
    "\n",
    "# prettify for printing:\n",
    "avg_precs = [float('{:.4f}'.format(ap)) for ap in avg_precs]\n",
    "iou_thrs = [float('{:.4f}'.format(thr)) for thr in iou_thrs]\n",
    "print('map: {:.2f}'.format(100*np.mean(avg_precs)))\n",
    "print('avg precs: ', avg_precs)\n",
    "print('iou_thrs:  ', iou_thrs)\n",
    "plt.legend(loc='upper right', title='IOU Thr', frameon=True)\n",
    "for xval in np.linspace(0.0, 1.0, 11):\n",
    "    plt.vlines(xval, 0.0, 1.1, color='gray', alpha=0.3, linestyles='dashed')\n",
    "end_time = time.time()\n",
    "print('\\nPlotting and calculating mAP takes {:.4f} secs'.format(end_time - start_time))\n",
    "plt.show()"
   ]
  },
  {
   "cell_type": "markdown",
   "metadata": {},
   "source": [
    "## Plot PR Curve per class"
   ]
  },
  {
   "cell_type": "code",
   "execution_count": null,
   "metadata": {},
   "outputs": [],
   "source": [
    "# Super-Imposed per Class\n",
    "start_time = time.time()\n",
    "ax = None\n",
    "avg_precs = []\n",
    "iou_thrs = []\n",
    "classes = ['source', 'sidelobe', 'galaxy']\n",
    "for i, classification in enumerate(classes):\n",
    "    for iou_thr in np.linspace(0.5, 0.6, 2):\n",
    "        if classification == 'source':\n",
    "            data = get_avg_precision_at_iou(gt_boxes_source, pred_boxes_source, iou_thr=iou_thr)\n",
    "            colour = 'blue'\n",
    "        elif classification == 'sidelobe':\n",
    "            data = get_avg_precision_at_iou(gt_boxes_sidelobe, pred_boxes_sidelobe, iou_thr=iou_thr)\n",
    "            colour = 'red'\n",
    "        elif classification == 'galaxy':\n",
    "            data = get_avg_precision_at_iou(gt_boxes_galaxy, pred_boxes_galaxy, iou_thr=iou_thr)\n",
    "            colour = 'green'\n",
    "        avg_precs.append(data['avg_prec'])\n",
    "        iou_thrs.append(iou_thr)\n",
    "\n",
    "        precisions = data['precisions']\n",
    "        recalls = data['recalls']\n",
    "\n",
    "        if iou_thr == 0.5:\n",
    "            line_style = 'solid'\n",
    "        elif iou_thr == 0.6:\n",
    "            line_style = 'dashed'\n",
    "        # ax = plot_pr_curve(precisions, recalls, label=classification+' @ {:.2f}'.format(iou_thr),\n",
    "        #                    color=COLORS[i*len(classes) + j], ax=ax)\n",
    "        ax = plot_pr_curve(precisions, recalls, label=classification + ' @ {:.2f}'.format(iou_thr),\n",
    "                            color=colour, ax=ax, linestyle=line_style)\n",
    "\n",
    "\n",
    "# prettify for printing:\n",
    "avg_precs = [float('{:.4f}'.format(ap)) for ap in avg_precs]\n",
    "iou_thrs = [float('{:.4f}'.format(thr)) for thr in iou_thrs]\n",
    "print('map: {:.2f}'.format(100 * np.mean(avg_precs)))\n",
    "print('avg precs: ', avg_precs)\n",
    "print('iou_thrs:  ', iou_thrs)\n",
    "plt.title('Precision-Recall Curves per Class')\n",
    "plt.legend(loc='lower right', title='Class @ IOU Thr', frameon=True)\n",
    "for xval in np.linspace(0.0, 1.0, 11):\n",
    "    plt.vlines(xval, 0.0, 1.1, color='gray', alpha=0.3, linestyles='dashed')\n",
    "end_time = time.time()\n",
    "print('\\nPlotting and calculating mAP takes {:.4f} secs'.format(end_time - start_time))\n",
    "plt.show()"
   ]
  }
 ],
 "metadata": {
  "interpreter": {
   "hash": "c2f6b508f16ade5a54070cf2ebbd92c3fbf902d67cbdfc4a97dd992d4ad29780"
  },
  "kernelspec": {
   "display_name": "Python 3.8.10 64-bit ('detr': conda)",
   "language": "python",
   "name": "python3"
  },
  "language_info": {
   "codemirror_mode": {
    "name": "ipython",
    "version": 3
   },
   "file_extension": ".py",
   "mimetype": "text/x-python",
   "name": "python",
   "nbconvert_exporter": "python",
   "pygments_lexer": "ipython3",
   "version": "3.8.10"
  },
  "orig_nbformat": 4
 },
 "nbformat": 4,
 "nbformat_minor": 2
}
