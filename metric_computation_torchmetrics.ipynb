{
 "cells": [
  {
   "cell_type": "code",
   "execution_count": 20,
   "metadata": {},
   "outputs": [],
   "source": [
    "from __future__ import absolute_import, division, print_function\n",
    "import json\n",
    "import time\n",
    "\n",
    "import matplotlib.pyplot as plt\n",
    "import numpy as np\n",
    "import seaborn as sns\n",
    "from metric_utils import *\n",
    "import torchmetrics"
   ]
  },
  {
   "cell_type": "markdown",
   "metadata": {},
   "source": [
    "## Predictions Format\n",
    "\n",
    "The model accepts predictions as JSON files in the following format\n",
    "(The notation in caps with a dollar sign (`$IMG_NAME`) means that such key will be replaced by the actual value of the property)\n",
    "```json\n",
    "    {\n",
    "        \"$IMG_NAME\": {\n",
    "            \"labels\": [$CLASS_IDX: int, ..., $CLASS_IDX: int],\n",
    "            \"boxes\": [[$X1, $X2, $Y1, $Y2], ..., [$X1, $X2, $Y1, $Y2]],\n",
    "            \"scores\": [$CONFIDENCE_SCORE: float, ..., $CONFIDENCE_SCORE: float]\n",
    "        },\n",
    "\n",
    "        ...\n",
    "        \n",
    "        \"$IMG_NAME\": {\n",
    "            \"labels\": [$CLASS_IDX: int, ..., $CLASS_IDX: int],\n",
    "            \"boxes\": [[$X1, $X2, $Y1, $Y2], ..., [$X1, $X2, $Y1, $Y2]],\n",
    "            \"scores\": [$CONFIDENCE_SCORE: float, ..., $CONFIDENCE_SCORE: float]\n",
    "        }\n",
    "    }\n",
    "```\n",
    "\n",
    "## Ground Truth Format\n",
    "\n",
    "Compliant to [COCO format]()\n",
    "```json\n",
    "{\n",
    "    \"image\": {\n",
    "        \"id\": int, \n",
    "        \"width\": int, \n",
    "        \"height\": int, \n",
    "        \"file_name\": str\n",
    "    },\n",
    "    \"annotations\": {\n",
    "        \"id\": int, \n",
    "        \"image_id\": int, \n",
    "        \"category_id\": int, \n",
    "        \"segmentation\": RLE or [polygon], \n",
    "        \"area\": float, \n",
    "        \"bbox\": [x,y,width,height], \n",
    "        \"iscrowd\": 0 or 1,\n",
    "    },\n",
    "\n",
    "    \"categories\": [{\n",
    "        \"id\": int, \n",
    "        \"name\": str\n",
    "    }]\n",
    "}\n",
    "```"
   ]
  },
  {
   "cell_type": "markdown",
   "metadata": {},
   "source": [
    "## Visualization setup"
   ]
  },
  {
   "cell_type": "code",
   "execution_count": 21,
   "metadata": {},
   "outputs": [],
   "source": [
    "sns.set_style('white')\n",
    "sns.set_context('poster')\n",
    "\n",
    "COLORS = [\n",
    "    '#1f77b4', '#aec7e8', '#ff7f0e', '#ffbb78', '#2ca02c',\n",
    "    '#98df8a', '#d62728', '#ff9896', '#9467bd', '#c5b0d5',\n",
    "    '#8c564b', '#c49c94', '#e377c2', '#f7b6d2', '#7f7f7f',\n",
    "    '#c7c7c7', '#bcbd22', '#dbdb8d', '#17becf', '#9edae5']"
   ]
  },
  {
   "cell_type": "markdown",
   "metadata": {},
   "source": [
    "## Loading gt and pred annotations"
   ]
  },
  {
   "cell_type": "code",
   "execution_count": 22,
   "metadata": {},
   "outputs": [],
   "source": [
    "with open('test.json') as infile:\n",
    "    annotations = json.load(infile)\n",
    "\n",
    "with open('rg-boxes.json') as infile:\n",
    "    pred_boxes = json.load(infile)\n",
    "    \n",
    "id_to_filename = {}\n",
    "for img in annotations['images']:\n",
    "    id_to_filename[img['id']] = img['file_name'].split('.')[0]\n",
    "\n",
    "class_id_to_name = {}\n",
    "for cl in annotations['categories']:\n",
    "    class_id_to_name[cl['id']] = cl['name']\n",
    "\n",
    "gt_boxes = {}\n",
    "for ann in annotations['annotations']:\n",
    "    img_id = ann['image_id']\n",
    "    img_name = id_to_filename[img_id]\n",
    "\n",
    "    w, h = annotations['images'][img_id]['width'], annotations['images'][img_id]['height']\n",
    "\n",
    "    if img_name not in gt_boxes:\n",
    "        gt_boxes[img_name] = {'boxes': [], 'labels': []}\n",
    "    bbox = ann['bbox'].copy()\n",
    "\n",
    "    bbox[2] += bbox[0]\n",
    "    bbox[3] += bbox[1]\n",
    "\n",
    "    class_id = ann['category_id']\n",
    "    gt_boxes[img_name]['boxes'].append(bbox)\n",
    "    gt_boxes[img_name]['labels'].append(class_id)"
   ]
  },
  {
   "cell_type": "code",
   "execution_count": 23,
   "metadata": {},
   "outputs": [],
   "source": [
    "import torch\n",
    "pred_list = []\n",
    "gt_list = []\n",
    "no_pred = []\n",
    "\n",
    "for img in sorted(pred_boxes):\n",
    "    for k, v in pred_boxes[img].items():\n",
    "        if not isinstance(v, torch.Tensor):\n",
    "            pred_boxes[img][k] = torch.tensor(v)\n",
    "\n",
    "    for k, v in gt_boxes[img].items():\n",
    "        gt_boxes[img][k] = torch.tensor(v)\n",
    "\n",
    "\n",
    "    if not pred_boxes[img]:\n",
    "        # Handle missing predictions\n",
    "        continue\n",
    "    pred_list.append(pred_boxes[img])\n",
    "    gt_list.append(gt_boxes[img])"
   ]
  },
  {
   "cell_type": "code",
   "execution_count": 24,
   "metadata": {},
   "outputs": [],
   "source": [
    "map50 = torchmetrics.MAP(class_metrics=True)\n",
    "map50.update(pred_list, gt_list)\n",
    "map50.compute()"
   ]
  }
 ],
 "metadata": {
  "interpreter": {
   "hash": "c2f6b508f16ade5a54070cf2ebbd92c3fbf902d67cbdfc4a97dd992d4ad29780"
  },
  "kernelspec": {
   "display_name": "Python 3.8.10 64-bit ('detr': conda)",
   "language": "python",
   "name": "python3"
  },
  "language_info": {
   "codemirror_mode": {
    "name": "ipython",
    "version": 3
   },
   "file_extension": ".py",
   "mimetype": "text/x-python",
   "name": "python",
   "nbconvert_exporter": "python",
   "pygments_lexer": "ipython3",
   "version": "3.8.10"
  },
  "orig_nbformat": 4
 },
 "nbformat": 4,
 "nbformat_minor": 2
}
